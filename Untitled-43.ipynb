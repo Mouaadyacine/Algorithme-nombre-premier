{
 "cells": [
  {
   "cell_type": "markdown",
   "metadata": {},
   "source": []
  },
  {
   "cell_type": "code",
   "execution_count": null,
   "metadata": {},
   "outputs": [],
   "source": [
    "variable  \n",
    "  i,n:entiers \n",
    "debut \n",
    "ecrire(\"entrer un nombre entier positif\")\n",
    "lire(n)\n",
    "si n<0 alors \n",
    "ecrire(\"ce nombre n'est pas positif\")\n",
    "sinon \n",
    " pour i de 2 a n pas -1 faire \n",
    "  si n%i==0 alors \n",
    "ecrire(\"le nombre n'est pas premier \")\n",
    "  fin si \n",
    " fin pour \n",
    "ecrire(\"le nombre est premier\")\n",
    "fin "
   ]
  }
 ],
 "metadata": {
  "language_info": {
   "name": "python"
  }
 },
 "nbformat": 4,
 "nbformat_minor": 2
}
